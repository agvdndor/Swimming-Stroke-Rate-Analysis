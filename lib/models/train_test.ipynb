{
 "nbformat": 4,
 "nbformat_minor": 2,
 "metadata": {
  "language_info": {
   "name": "python",
   "codemirror_mode": {
    "name": "ipython",
    "version": 3
   },
   "version": "3.6.7-final"
  },
  "orig_nbformat": 2,
  "file_extension": ".py",
  "mimetype": "text/x-python",
  "name": "python",
  "npconvert_exporter": "python",
  "pygments_lexer": "ipython3",
  "version": 3,
  "kernelspec": {
   "name": "python36764bitvenvvirtualenv058d700eb79a487e9c8ef235f84fc9b4",
   "display_name": "Python 3.6.7 64-bit ('venv': virtualenv)"
  }
 },
 "cells": [
  {
   "cell_type": "code",
   "execution_count": null,
   "metadata": {},
   "outputs": [
    {
     "output_type": "error",
     "ename": "Error",
     "evalue": "Invalid response: 500 Internal Server Error",
     "traceback": [
      "Error: Invalid response: 500 Internal Server Error",
      "at /home/arne/.vscode-server/extensions/ms-python.python-2020.2.64397/out/client/node_modules/@jupyterlab/services.js:3:553612",
      "at processTicksAndRejections (internal/process/task_queues.js:89:5)",
      "at async t.SessionManager.startNew (/home/arne/.vscode-server/extensions/ms-python.python-2020.2.64397/out/client/node_modules/@jupyterlab/services.js:3:545135)",
      "at async S.connect (/home/arne/.vscode-server/extensions/ms-python.python-2020.2.64397/out/client/extension.js:1:485172)",
      "at async t.JupyterSessionManager.startNew (/home/arne/.vscode-server/extensions/ms-python.python-2020.2.64397/out/client/extension.js:75:1013334)",
      "at async d.createNotebookInstance (/home/arne/.vscode-server/extensions/ms-python.python-2020.2.64397/out/client/extension.js:75:984800)",
      "at async A.ensureNotebookImpl (/home/arne/.vscode-server/extensions/ms-python.python-2020.2.64397/out/client/extension.js:1:790490)"
     ]
    }
   ],
   "source": [
    "import torch \nimport torchvision\nfrom torchvision.models.detection.keypoint_rcnn import keypointrcnn_resnet50_fpn\nfrom torchvision import transforms\nimport skimage\nfrom skimage import io, transform\nfrom matplotlib import pyplot as plt\nimport numpy as np"
   ]
  },
  {
   "cell_type": "code",
   "execution_count": null,
   "metadata": {},
   "outputs": [
    {
     "output_type": "error",
     "ename": "Error",
     "evalue": "Invalid response: 500 Internal Server Error",
     "traceback": [
      "Error: Invalid response: 500 Internal Server Error",
      "at /home/arne/.vscode-server/extensions/ms-python.python-2020.2.64397/out/client/node_modules/@jupyterlab/services.js:3:553612",
      "at processTicksAndRejections (internal/process/task_queues.js:89:5)",
      "at async t.SessionManager.startNew (/home/arne/.vscode-server/extensions/ms-python.python-2020.2.64397/out/client/node_modules/@jupyterlab/services.js:3:545135)",
      "at async S.connect (/home/arne/.vscode-server/extensions/ms-python.python-2020.2.64397/out/client/extension.js:1:485172)",
      "at async t.JupyterSessionManager.startNew (/home/arne/.vscode-server/extensions/ms-python.python-2020.2.64397/out/client/extension.js:75:1013334)",
      "at async d.createNotebookInstance (/home/arne/.vscode-server/extensions/ms-python.python-2020.2.64397/out/client/extension.js:75:984800)",
      "at async A.ensureNotebookImpl (/home/arne/.vscode-server/extensions/ms-python.python-2020.2.64397/out/client/extension.js:1:790490)"
     ]
    }
   ],
   "source": [
    "model= torchvision.models.detection.keypointrcnn_resnet50_fpn(pretrained=True)\nfor param in model.parameters():\n    param.requires_grad = True\n\nprint(model.state_dict().keys())\nmodel.train()"
   ]
  },
  {
   "cell_type": "code",
   "execution_count": null,
   "metadata": {},
   "outputs": [
    {
     "output_type": "error",
     "ename": "Error",
     "evalue": "Invalid response: 500 Internal Server Error",
     "traceback": [
      "Error: Invalid response: 500 Internal Server Error",
      "at /home/arne/.vscode-server/extensions/ms-python.python-2020.2.64397/out/client/node_modules/@jupyterlab/services.js:3:553612",
      "at processTicksAndRejections (internal/process/task_queues.js:89:5)",
      "at async t.SessionManager.startNew (/home/arne/.vscode-server/extensions/ms-python.python-2020.2.64397/out/client/node_modules/@jupyterlab/services.js:3:545135)",
      "at async S.connect (/home/arne/.vscode-server/extensions/ms-python.python-2020.2.64397/out/client/extension.js:1:485172)",
      "at async t.JupyterSessionManager.startNew (/home/arne/.vscode-server/extensions/ms-python.python-2020.2.64397/out/client/extension.js:75:1013334)",
      "at async d.createNotebookInstance (/home/arne/.vscode-server/extensions/ms-python.python-2020.2.64397/out/client/extension.js:75:984800)",
      "at async A.ensureNotebookImpl (/home/arne/.vscode-server/extensions/ms-python.python-2020.2.64397/out/client/extension.js:1:790490)"
     ]
    }
   ],
   "source": [
    "from PoseDataset import PoseDataset\nfrom transforms import DictToTensor\nfrom torchvision import transforms\nfrom references_utils import collate_fn\n"
   ]
  },
  {
   "cell_type": "code",
   "execution_count": null,
   "metadata": {},
   "outputs": [
    {
     "output_type": "error",
     "ename": "Error",
     "evalue": "Failed to connect to remote Jupyter notebook.\r\nCheck that the Jupyter Server URI setting has a valid running server specified.\r\nhttps://0.0.0.0:8888/\r\nr: request to https://0.0.0.0:8888/login? failed, reason: Client network socket disconnected before secure TLS connection was established",
     "traceback": [
      "Error: Failed to connect to remote Jupyter notebook.",
      "Check that the Jupyter Server URI setting has a valid running server specified.",
      "https://0.0.0.0:8888/",
      "r: request to https://0.0.0.0:8888/login? failed, reason: Client network socket disconnected before secure TLS connection was established",
      "at /home/arne/.vscode-server/extensions/ms-python.python-2020.2.64397/out/client/extension.js:1:817679",
      "at processTicksAndRejections (internal/process/task_queues.js:89:5)"
     ]
    }
   ],
   "source": [
    "transform=transforms.Compose([DictToTensor()])\ndataset = PoseDataset(['../../data/vzf/freestyle/freestyle_1'], 3, transform=transform)\nprint(len(dataset))\n# for i in range(0,len(dataset)):\n#     sample = dataset[i]\n#     print(str(i))\n#     image = sample['image'].to(device)\n    "
   ]
  },
  {
   "cell_type": "code",
   "execution_count": null,
   "metadata": {},
   "outputs": [
    {
     "output_type": "error",
     "ename": "Error",
     "evalue": "Failed to connect to remote Jupyter notebook.\r\nCheck that the Jupyter Server URI setting has a valid running server specified.\r\nhttps://0.0.0.0:8888/\r\nr: request to https://0.0.0.0:8888/login? failed, reason: Client network socket disconnected before secure TLS connection was established",
     "traceback": [
      "Error: Failed to connect to remote Jupyter notebook.",
      "Check that the Jupyter Server URI setting has a valid running server specified.",
      "https://0.0.0.0:8888/",
      "r: request to https://0.0.0.0:8888/login? failed, reason: Client network socket disconnected before secure TLS connection was established",
      "at /home/arne/.vscode-server/extensions/ms-python.python-2020.2.64397/out/client/extension.js:1:817679",
      "at processTicksAndRejections (internal/process/task_queues.js:89:5)"
     ]
    }
   ],
   "source": [
    "data_loader = torch.utils.data.DataLoader(\n        dataset, batch_size=2, shuffle=True, num_workers=4,\n        collate_fn=collate_fn)"
   ]
  },
  {
   "cell_type": "code",
   "execution_count": null,
   "metadata": {},
   "outputs": [
    {
     "output_type": "error",
     "ename": "Error",
     "evalue": "Failed to connect to remote Jupyter notebook.\r\nCheck that the Jupyter Server URI setting has a valid running server specified.\r\nhttps://0.0.0.0:8888/\r\nr: request to https://0.0.0.0:8888/login? failed, reason: Client network socket disconnected before secure TLS connection was established",
     "traceback": [
      "Error: Failed to connect to remote Jupyter notebook.",
      "Check that the Jupyter Server URI setting has a valid running server specified.",
      "https://0.0.0.0:8888/",
      "r: request to https://0.0.0.0:8888/login? failed, reason: Client network socket disconnected before secure TLS connection was established",
      "at /home/arne/.vscode-server/extensions/ms-python.python-2020.2.64397/out/client/extension.js:1:817679",
      "at processTicksAndRejections (internal/process/task_queues.js:89:5)"
     ]
    }
   ],
   "source": [
    "from references_engine import train_one_epoch"
   ]
  },
  {
   "cell_type": "code",
   "execution_count": null,
   "metadata": {},
   "outputs": [],
   "source": [
    "device = torch.device('cuda') if torch.cuda.is_available() else torch.device('cpu')\n",
    "\n",
    "params = [p for p in model.parameters() if p.requires_grad]\n",
    "\n",
    "optimizer = torch.optim.SGD(params, lr=0.005, momentum=0.9, weight_decay=0.0005)\n",
    "lr_scheduler = torch.optim.lr_scheduler.StepLR(optimizer, step_size=3, gamma=0.1)\n",
    "\n",
    "for epoch in range(0, 5):\n",
    "    train_one_epoch(model, optimizer, data_loader, device, epoch, print_freq=1)"
   ]
  },
  {
   "cell_type": "code",
   "execution_count": null,
   "metadata": {},
   "outputs": [],
   "source": []
  }
 ]
}