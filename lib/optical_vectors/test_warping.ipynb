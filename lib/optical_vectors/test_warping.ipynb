{
 "nbformat": 4,
 "nbformat_minor": 2,
 "metadata": {
  "language_info": {
   "name": "python",
   "codemirror_mode": {
    "name": "ipython",
    "version": 3
   },
   "version": "3.6.9-final"
  },
  "orig_nbformat": 2,
  "file_extension": ".py",
  "mimetype": "text/x-python",
  "name": "python",
  "npconvert_exporter": "python",
  "pygments_lexer": "ipython3",
  "version": 3,
  "kernelspec": {
   "name": "python36964bitvenvvirtualenvbea9a94442cd49a38f8a0c2c03c4e380",
   "display_name": "Python 3.6.9 64-bit ('venv': virtualenv)"
  }
 },
 "cells": [
  {
   "cell_type": "code",
   "execution_count": null,
   "metadata": {},
   "outputs": [],
   "source": [
    "import sys\n",
    "from glob import glob\n",
    "from os import path as osp\n",
    "from datetime import datetime\n",
    "from tqdm import tqdm\n",
    "from skimage import io, transform\n",
    "from matplotlib import pyplot as plt\n",
    "import numpy as np\n",
    "from math import sqrt\n",
    "from statistics import mean\n",
    "# torch imports\n",
    "import torch\n",
    "from torchvision import transforms\n",
    "from torch.utils.data.dataloader import DataLoader\n",
    "\n",
    "# root path of project\n",
    "from os import path as osp\n",
    "import sys\n",
    "\n",
    "# get root directory\n",
    "import re\n",
    "reg = '^.*/AquaPose'\n",
    "project_root = re.findall(reg, osp.dirname(osp.abspath(sys.argv[0])))[0]\n",
    "sys.path.append(project_root)\n",
    "\n",
    "from lib.dataset.PoseDataset import PoseDataset\n",
    "\n",
    "from lib.models.keypoint_rcnn import get_resnet50_pretrained_model\n",
    "\n",
    "# utils\n",
    "from lib.utils.slack_notifications import slack_message\n",
    "from lib.utils.select_gpu import select_best_gpu\n",
    "from lib.utils.rmsd import kabsch_rmsd, kabsch_rotate, kabsch_weighted_rmsd, centroid, centroid_weighted, rmsd, rmsd_weighted\n",
    "\n",
    "# optical vectors import\n",
    "from lib.optical_vectors.optical_vectors import get_image_cut_coordinates, get_optical_vectors\n",
    "\n",
    "# references import\n",
    "# source: https://github.com/pytorch/vision/tree/master/references/detection\n",
    "from references.engine import train_one_epoch, evaluate\n",
    "from references.utils import collate_fn\n",
    "\n",
    "from references.transforms import RandomHorizontalFlip\n",
    "\n",
    "from lib.utils.visual_utils import *\n",
    "from lib.matching.matching import *\n",
    ""
   ]
  },
  {
   "cell_type": "code",
   "execution_count": null,
   "metadata": {},
   "outputs": [],
   "source": [
    "# load dataset to get a set of poses to match to\n",
    "ref_dataset = PoseDataset([osp.join(project_root,'data/vzf/freestyle/freestyle_2'), osp.join(project_root,'data/vzf/freestyle/freestyle_3'), osp.join(project_root,'data/vzf/freestyle/freestyle_4'), osp.join(project_root,'data/vzf/freestyle/freestyle_6')], train=False)\n",
    "\n",
    "test_dataset_dirs = [osp.join(project_root,'data/vzf/freestyle/freestyle_1')]\n",
    "\n",
    "test_dataset = PoseDataset(test_dataset_dirs, train=False)"
   ]
  },
  {
   "cell_type": "markdown",
   "metadata": {},
   "source": [
    "## Load csv file with displacements\n"
   ],
   "execution_count": null,
   "outputs": []
  },
  {
   "cell_type": "code",
   "execution_count": null,
   "metadata": {
    "tags": [
     "outputPrepend"
    ]
   },
   "outputs": [],
   "source": [
    "dataset_root = test_dataset_dirs[0]\n",
    "cut_dict = get_image_cut_coordinates(dataset_root)\n",
    "\n",
    "print(cut_dict.keys())"
   ]
  },
  {
   "cell_type": "code",
   "execution_count": null,
   "metadata": {},
   "outputs": [],
   "source": [
    "test_id = 8\n",
    "test_img, test_target = test_dataset[test_id]\n",
    "test_kps = merge_head(test_target['keypoints'][0].detach().numpy())\n",
    "\n",
    "img_id = test_target['image_id']\n",
    "print(img_id)\n",
    "\n",
    "opt_vec = get_optical_vectors(dataset_root, img_id, cut_dict, plot=True)"
   ]
  },
  {
   "cell_type": "code",
   "execution_count": null,
   "metadata": {},
   "outputs": [],
   "source": [
    "print(opt_vec.shape)\n",
    "print(opt_vec[5,5])\n",
    "print(tensor_to_numpy_image(test_img).shape)\n",
    "\n",
    "# the image before being processed by flownet had been cropped in the center to ensure dimesions dividable by 64\n",
    "\n",
    "def get_padded(opt_vec, co):\n",
    "    # assume that all images will have been cropped horizontally from 672 -> 640 (for out dataset)\n",
    "\n",
    "    return opt_vec[-16 + co[0], co[1]]\n",
    "\n",
    "def get_vec_kernel(opt_vec, co, size=(5,5), cut_off=2):\n",
    "    total_vec = [0,0]\n",
    "    num = 0\n",
    "    for i in range(co[0] - size[0]//2, co[0] + size[0]//2 + 1):\n",
    "        for j in range(co[1] - size[1]//2, co[1] + size[1]//2 + 1):\n",
    "            try:\n",
    "                vec = get_padded(opt_vec, [i,j])\n",
    "            except Exception as e:\n",
    "                print(e)\n",
    "            if sqrt(vec[0]**2 + vec[1]**2) > cut_off:\n",
    "                total_vec[0] += vec[0]\n",
    "                total_vec[1] += vec[1]\n",
    "                num += 1\n",
    "    \n",
    "    return np.array(total_vec)/num\n",
    ""
   ]
  },
  {
   "cell_type": "code",
   "execution_count": null,
   "metadata": {},
   "outputs": [],
   "source": [
    "plot_image_with_kps(test_img, [test_kps])\n",
    "print(test_kps)"
   ]
  },
  {
   "cell_type": "code",
   "execution_count": null,
   "metadata": {},
   "outputs": [],
   "source": [
    "\n",
    "# beware the order of the axis:\n",
    "# kps : horizontal_axis, vertical axis, vis\n",
    "# img_tensor/opt_vect: vertical axis, horizontal axis\n",
    "def warp_kps_hard(kps, opt_vec):\n",
    "    kps_warped = []\n",
    "\n",
    "    for kp in kps:\n",
    "        x_co = kp[0]\n",
    "        y_co = kp[1]\n",
    "        vis = kp[2]\n",
    "        #print('xco {}'.format(int(x_co)))\n",
    "        #print('yco {}'.format(int(y_co)))\n",
    "        kp_vec = get_vec_kernel(opt_vec, [int(y_co), int(x_co)], size=(20,20))\n",
    "        print(kp_vec)\n",
    "        #kp_vec = opt_vec[int(y_co), int(x_co)]\n",
    "        #print(kp_vec)\n",
    "\n",
    "        kps_warped.append([x_co + kp_vec[0], y_co + kp_vec[1], vis])\n",
    "\n",
    "    return np.array(kps_warped)"
   ]
  },
  {
   "cell_type": "code",
   "execution_count": null,
   "metadata": {},
   "outputs": [],
   "source": [
    "kps_warped = warp_kps_hard(test_kps, opt_vec)\n",
    "print(test_kps)\n",
    "print(kps_warped)\n",
    ""
   ]
  },
  {
   "cell_type": "code",
   "execution_count": null,
   "metadata": {},
   "outputs": [],
   "source": [
    "plot_image_with_kps(test_img, [test_kps, kps_warped], ['k','w'])"
   ]
  },
  {
   "cell_type": "code",
   "execution_count": null,
   "metadata": {},
   "outputs": [],
   "source": [
    "plot_opt_vec(dataset_root, img_id, cut_dict, [test_kps])"
   ]
  },
  {
   "cell_type": "code",
   "execution_count": null,
   "metadata": {},
   "outputs": [],
   "source": [
    "\n",
    "\n",
    "def plot_opt_vec(dataset_root, img_id, coordinate_dict, kps_list, color_list=['b', 'r', 'g']):\n",
    "    try:\n",
    "        img_id = int(img_id.item())\n",
    "    except:\n",
    "        pass\n",
    "    img_id = str(img_id)\n",
    "    cut_co = coordinate_dict[img_id]\n",
    "    flo_url = osp.join(dataset_root,'stitched_optical_vectors', str(img_id).zfill(6) + '.flo')\n",
    "\n",
    "    fig, ax = plt.subplots()\n",
    "\n",
    "    vis = fz.convert_from_file(flo_url)\n",
    "    plt.imshow(vis[:,cut_co[0]:cut_co[0]+cut_co[1]])\n",
    "\n",
    "    for kps, clr in zip(kps_list, color_list):\n",
    "        ax.scatter(0 + np.array(kps)[:,0],-16 + np.array(kps)[:,1], s=10, marker='.', c=clr)"
   ]
  },
  {
   "cell_type": "code",
   "execution_count": null,
   "metadata": {},
   "outputs": [],
   "source": [
    "plot_opt_vec(dataset_root, int(img_id.item()), cut_dict, [])\n",
    "plot_opt_vec(dataset_root, int(img_id.item()) + 1, cut_dict, [])\n",
    "plot_opt_vec(dataset_root, int(img_id.item()) + 2, cut_dict, [])\n",
    ""
   ]
  },
  {
   "cell_type": "code",
   "execution_count": null,
   "metadata": {},
   "outputs": [],
   "source": []
  }
 ]
}